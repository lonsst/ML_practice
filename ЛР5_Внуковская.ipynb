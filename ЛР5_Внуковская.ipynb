{
  "nbformat": 4,
  "nbformat_minor": 0,
  "metadata": {
    "colab": {
      "provenance": [],
      "gpuType": "T4",
      "authorship_tag": "ABX9TyO6m1qp4tZQBwFDw5rsMpFx",
      "include_colab_link": true
    },
    "kernelspec": {
      "name": "python3",
      "display_name": "Python 3"
    },
    "language_info": {
      "name": "python"
    },
    "accelerator": "GPU",
    "widgets": {
      "application/vnd.jupyter.widget-state+json": {
        "fbbc1f9bcc8b45f782b222c20d5884fb": {
          "model_module": "@jupyter-widgets/controls",
          "model_name": "HBoxModel",
          "model_module_version": "1.5.0",
          "state": {
            "_dom_classes": [],
            "_model_module": "@jupyter-widgets/controls",
            "_model_module_version": "1.5.0",
            "_model_name": "HBoxModel",
            "_view_count": null,
            "_view_module": "@jupyter-widgets/controls",
            "_view_module_version": "1.5.0",
            "_view_name": "HBoxView",
            "box_style": "",
            "children": [
              "IPY_MODEL_d26c96a5200d41d68d03d63928cb02c5",
              "IPY_MODEL_9ab1a4d5c0064aa39c02d32d420f65c5",
              "IPY_MODEL_60481ad50bfe463983745d7ca4ed3259"
            ],
            "layout": "IPY_MODEL_9fcf560066ce4662b72e8b3d9eee18bd"
          }
        },
        "d26c96a5200d41d68d03d63928cb02c5": {
          "model_module": "@jupyter-widgets/controls",
          "model_name": "HTMLModel",
          "model_module_version": "1.5.0",
          "state": {
            "_dom_classes": [],
            "_model_module": "@jupyter-widgets/controls",
            "_model_module_version": "1.5.0",
            "_model_name": "HTMLModel",
            "_view_count": null,
            "_view_module": "@jupyter-widgets/controls",
            "_view_module_version": "1.5.0",
            "_view_name": "HTMLView",
            "description": "",
            "description_tooltip": null,
            "layout": "IPY_MODEL_25c80b26178b463d97ba6e7f5ec65d7c",
            "placeholder": "​",
            "style": "IPY_MODEL_b3c9ab2928aa4c688db74b856bc73110",
            "value": "tokenizer_config.json: 100%"
          }
        },
        "9ab1a4d5c0064aa39c02d32d420f65c5": {
          "model_module": "@jupyter-widgets/controls",
          "model_name": "FloatProgressModel",
          "model_module_version": "1.5.0",
          "state": {
            "_dom_classes": [],
            "_model_module": "@jupyter-widgets/controls",
            "_model_module_version": "1.5.0",
            "_model_name": "FloatProgressModel",
            "_view_count": null,
            "_view_module": "@jupyter-widgets/controls",
            "_view_module_version": "1.5.0",
            "_view_name": "ProgressView",
            "bar_style": "success",
            "description": "",
            "description_tooltip": null,
            "layout": "IPY_MODEL_c14f696fc4144693a9bf0f311eb84ed8",
            "max": 28,
            "min": 0,
            "orientation": "horizontal",
            "style": "IPY_MODEL_1851b430feea41ebb6cf94b48c389429",
            "value": 28
          }
        },
        "60481ad50bfe463983745d7ca4ed3259": {
          "model_module": "@jupyter-widgets/controls",
          "model_name": "HTMLModel",
          "model_module_version": "1.5.0",
          "state": {
            "_dom_classes": [],
            "_model_module": "@jupyter-widgets/controls",
            "_model_module_version": "1.5.0",
            "_model_name": "HTMLModel",
            "_view_count": null,
            "_view_module": "@jupyter-widgets/controls",
            "_view_module_version": "1.5.0",
            "_view_name": "HTMLView",
            "description": "",
            "description_tooltip": null,
            "layout": "IPY_MODEL_b817fb75596741259dfecfad07341f35",
            "placeholder": "​",
            "style": "IPY_MODEL_c2ddb7459714433cba2a82f63e336c4f",
            "value": " 28.0/28.0 [00:00&lt;00:00, 557B/s]"
          }
        },
        "9fcf560066ce4662b72e8b3d9eee18bd": {
          "model_module": "@jupyter-widgets/base",
          "model_name": "LayoutModel",
          "model_module_version": "1.2.0",
          "state": {
            "_model_module": "@jupyter-widgets/base",
            "_model_module_version": "1.2.0",
            "_model_name": "LayoutModel",
            "_view_count": null,
            "_view_module": "@jupyter-widgets/base",
            "_view_module_version": "1.2.0",
            "_view_name": "LayoutView",
            "align_content": null,
            "align_items": null,
            "align_self": null,
            "border": null,
            "bottom": null,
            "display": null,
            "flex": null,
            "flex_flow": null,
            "grid_area": null,
            "grid_auto_columns": null,
            "grid_auto_flow": null,
            "grid_auto_rows": null,
            "grid_column": null,
            "grid_gap": null,
            "grid_row": null,
            "grid_template_areas": null,
            "grid_template_columns": null,
            "grid_template_rows": null,
            "height": null,
            "justify_content": null,
            "justify_items": null,
            "left": null,
            "margin": null,
            "max_height": null,
            "max_width": null,
            "min_height": null,
            "min_width": null,
            "object_fit": null,
            "object_position": null,
            "order": null,
            "overflow": null,
            "overflow_x": null,
            "overflow_y": null,
            "padding": null,
            "right": null,
            "top": null,
            "visibility": null,
            "width": null
          }
        },
        "25c80b26178b463d97ba6e7f5ec65d7c": {
          "model_module": "@jupyter-widgets/base",
          "model_name": "LayoutModel",
          "model_module_version": "1.2.0",
          "state": {
            "_model_module": "@jupyter-widgets/base",
            "_model_module_version": "1.2.0",
            "_model_name": "LayoutModel",
            "_view_count": null,
            "_view_module": "@jupyter-widgets/base",
            "_view_module_version": "1.2.0",
            "_view_name": "LayoutView",
            "align_content": null,
            "align_items": null,
            "align_self": null,
            "border": null,
            "bottom": null,
            "display": null,
            "flex": null,
            "flex_flow": null,
            "grid_area": null,
            "grid_auto_columns": null,
            "grid_auto_flow": null,
            "grid_auto_rows": null,
            "grid_column": null,
            "grid_gap": null,
            "grid_row": null,
            "grid_template_areas": null,
            "grid_template_columns": null,
            "grid_template_rows": null,
            "height": null,
            "justify_content": null,
            "justify_items": null,
            "left": null,
            "margin": null,
            "max_height": null,
            "max_width": null,
            "min_height": null,
            "min_width": null,
            "object_fit": null,
            "object_position": null,
            "order": null,
            "overflow": null,
            "overflow_x": null,
            "overflow_y": null,
            "padding": null,
            "right": null,
            "top": null,
            "visibility": null,
            "width": null
          }
        },
        "b3c9ab2928aa4c688db74b856bc73110": {
          "model_module": "@jupyter-widgets/controls",
          "model_name": "DescriptionStyleModel",
          "model_module_version": "1.5.0",
          "state": {
            "_model_module": "@jupyter-widgets/controls",
            "_model_module_version": "1.5.0",
            "_model_name": "DescriptionStyleModel",
            "_view_count": null,
            "_view_module": "@jupyter-widgets/base",
            "_view_module_version": "1.2.0",
            "_view_name": "StyleView",
            "description_width": ""
          }
        },
        "c14f696fc4144693a9bf0f311eb84ed8": {
          "model_module": "@jupyter-widgets/base",
          "model_name": "LayoutModel",
          "model_module_version": "1.2.0",
          "state": {
            "_model_module": "@jupyter-widgets/base",
            "_model_module_version": "1.2.0",
            "_model_name": "LayoutModel",
            "_view_count": null,
            "_view_module": "@jupyter-widgets/base",
            "_view_module_version": "1.2.0",
            "_view_name": "LayoutView",
            "align_content": null,
            "align_items": null,
            "align_self": null,
            "border": null,
            "bottom": null,
            "display": null,
            "flex": null,
            "flex_flow": null,
            "grid_area": null,
            "grid_auto_columns": null,
            "grid_auto_flow": null,
            "grid_auto_rows": null,
            "grid_column": null,
            "grid_gap": null,
            "grid_row": null,
            "grid_template_areas": null,
            "grid_template_columns": null,
            "grid_template_rows": null,
            "height": null,
            "justify_content": null,
            "justify_items": null,
            "left": null,
            "margin": null,
            "max_height": null,
            "max_width": null,
            "min_height": null,
            "min_width": null,
            "object_fit": null,
            "object_position": null,
            "order": null,
            "overflow": null,
            "overflow_x": null,
            "overflow_y": null,
            "padding": null,
            "right": null,
            "top": null,
            "visibility": null,
            "width": null
          }
        },
        "1851b430feea41ebb6cf94b48c389429": {
          "model_module": "@jupyter-widgets/controls",
          "model_name": "ProgressStyleModel",
          "model_module_version": "1.5.0",
          "state": {
            "_model_module": "@jupyter-widgets/controls",
            "_model_module_version": "1.5.0",
            "_model_name": "ProgressStyleModel",
            "_view_count": null,
            "_view_module": "@jupyter-widgets/base",
            "_view_module_version": "1.2.0",
            "_view_name": "StyleView",
            "bar_color": null,
            "description_width": ""
          }
        },
        "b817fb75596741259dfecfad07341f35": {
          "model_module": "@jupyter-widgets/base",
          "model_name": "LayoutModel",
          "model_module_version": "1.2.0",
          "state": {
            "_model_module": "@jupyter-widgets/base",
            "_model_module_version": "1.2.0",
            "_model_name": "LayoutModel",
            "_view_count": null,
            "_view_module": "@jupyter-widgets/base",
            "_view_module_version": "1.2.0",
            "_view_name": "LayoutView",
            "align_content": null,
            "align_items": null,
            "align_self": null,
            "border": null,
            "bottom": null,
            "display": null,
            "flex": null,
            "flex_flow": null,
            "grid_area": null,
            "grid_auto_columns": null,
            "grid_auto_flow": null,
            "grid_auto_rows": null,
            "grid_column": null,
            "grid_gap": null,
            "grid_row": null,
            "grid_template_areas": null,
            "grid_template_columns": null,
            "grid_template_rows": null,
            "height": null,
            "justify_content": null,
            "justify_items": null,
            "left": null,
            "margin": null,
            "max_height": null,
            "max_width": null,
            "min_height": null,
            "min_width": null,
            "object_fit": null,
            "object_position": null,
            "order": null,
            "overflow": null,
            "overflow_x": null,
            "overflow_y": null,
            "padding": null,
            "right": null,
            "top": null,
            "visibility": null,
            "width": null
          }
        },
        "c2ddb7459714433cba2a82f63e336c4f": {
          "model_module": "@jupyter-widgets/controls",
          "model_name": "DescriptionStyleModel",
          "model_module_version": "1.5.0",
          "state": {
            "_model_module": "@jupyter-widgets/controls",
            "_model_module_version": "1.5.0",
            "_model_name": "DescriptionStyleModel",
            "_view_count": null,
            "_view_module": "@jupyter-widgets/base",
            "_view_module_version": "1.2.0",
            "_view_name": "StyleView",
            "description_width": ""
          }
        },
        "4a3fcf1004f443f49e844aed82d1e989": {
          "model_module": "@jupyter-widgets/controls",
          "model_name": "HBoxModel",
          "model_module_version": "1.5.0",
          "state": {
            "_dom_classes": [],
            "_model_module": "@jupyter-widgets/controls",
            "_model_module_version": "1.5.0",
            "_model_name": "HBoxModel",
            "_view_count": null,
            "_view_module": "@jupyter-widgets/controls",
            "_view_module_version": "1.5.0",
            "_view_name": "HBoxView",
            "box_style": "",
            "children": [
              "IPY_MODEL_86b9446efca44a049d0f9596f2899ffa",
              "IPY_MODEL_ef48f0f2cb8c452386e84e7daec8d088",
              "IPY_MODEL_0c11c0a5cfce4512bd67a430957856d1"
            ],
            "layout": "IPY_MODEL_c0273b5e84aa4deda0c98426da312c55"
          }
        },
        "86b9446efca44a049d0f9596f2899ffa": {
          "model_module": "@jupyter-widgets/controls",
          "model_name": "HTMLModel",
          "model_module_version": "1.5.0",
          "state": {
            "_dom_classes": [],
            "_model_module": "@jupyter-widgets/controls",
            "_model_module_version": "1.5.0",
            "_model_name": "HTMLModel",
            "_view_count": null,
            "_view_module": "@jupyter-widgets/controls",
            "_view_module_version": "1.5.0",
            "_view_name": "HTMLView",
            "description": "",
            "description_tooltip": null,
            "layout": "IPY_MODEL_47a0a16b91534882933558c047e53749",
            "placeholder": "​",
            "style": "IPY_MODEL_d054f7c812414a43a62e6b6808d7286f",
            "value": "vocab.txt: 100%"
          }
        },
        "ef48f0f2cb8c452386e84e7daec8d088": {
          "model_module": "@jupyter-widgets/controls",
          "model_name": "FloatProgressModel",
          "model_module_version": "1.5.0",
          "state": {
            "_dom_classes": [],
            "_model_module": "@jupyter-widgets/controls",
            "_model_module_version": "1.5.0",
            "_model_name": "FloatProgressModel",
            "_view_count": null,
            "_view_module": "@jupyter-widgets/controls",
            "_view_module_version": "1.5.0",
            "_view_name": "ProgressView",
            "bar_style": "success",
            "description": "",
            "description_tooltip": null,
            "layout": "IPY_MODEL_b805932465e242f6978e7e472588e9d9",
            "max": 231508,
            "min": 0,
            "orientation": "horizontal",
            "style": "IPY_MODEL_63d1314c503345b3859b10b5dd06aac9",
            "value": 231508
          }
        },
        "0c11c0a5cfce4512bd67a430957856d1": {
          "model_module": "@jupyter-widgets/controls",
          "model_name": "HTMLModel",
          "model_module_version": "1.5.0",
          "state": {
            "_dom_classes": [],
            "_model_module": "@jupyter-widgets/controls",
            "_model_module_version": "1.5.0",
            "_model_name": "HTMLModel",
            "_view_count": null,
            "_view_module": "@jupyter-widgets/controls",
            "_view_module_version": "1.5.0",
            "_view_name": "HTMLView",
            "description": "",
            "description_tooltip": null,
            "layout": "IPY_MODEL_0a138ee1fb5849c6a6f3c10e316ec749",
            "placeholder": "​",
            "style": "IPY_MODEL_a8e695ca33aa405980b908e789341865",
            "value": " 232k/232k [00:00&lt;00:00, 5.00MB/s]"
          }
        },
        "c0273b5e84aa4deda0c98426da312c55": {
          "model_module": "@jupyter-widgets/base",
          "model_name": "LayoutModel",
          "model_module_version": "1.2.0",
          "state": {
            "_model_module": "@jupyter-widgets/base",
            "_model_module_version": "1.2.0",
            "_model_name": "LayoutModel",
            "_view_count": null,
            "_view_module": "@jupyter-widgets/base",
            "_view_module_version": "1.2.0",
            "_view_name": "LayoutView",
            "align_content": null,
            "align_items": null,
            "align_self": null,
            "border": null,
            "bottom": null,
            "display": null,
            "flex": null,
            "flex_flow": null,
            "grid_area": null,
            "grid_auto_columns": null,
            "grid_auto_flow": null,
            "grid_auto_rows": null,
            "grid_column": null,
            "grid_gap": null,
            "grid_row": null,
            "grid_template_areas": null,
            "grid_template_columns": null,
            "grid_template_rows": null,
            "height": null,
            "justify_content": null,
            "justify_items": null,
            "left": null,
            "margin": null,
            "max_height": null,
            "max_width": null,
            "min_height": null,
            "min_width": null,
            "object_fit": null,
            "object_position": null,
            "order": null,
            "overflow": null,
            "overflow_x": null,
            "overflow_y": null,
            "padding": null,
            "right": null,
            "top": null,
            "visibility": null,
            "width": null
          }
        },
        "47a0a16b91534882933558c047e53749": {
          "model_module": "@jupyter-widgets/base",
          "model_name": "LayoutModel",
          "model_module_version": "1.2.0",
          "state": {
            "_model_module": "@jupyter-widgets/base",
            "_model_module_version": "1.2.0",
            "_model_name": "LayoutModel",
            "_view_count": null,
            "_view_module": "@jupyter-widgets/base",
            "_view_module_version": "1.2.0",
            "_view_name": "LayoutView",
            "align_content": null,
            "align_items": null,
            "align_self": null,
            "border": null,
            "bottom": null,
            "display": null,
            "flex": null,
            "flex_flow": null,
            "grid_area": null,
            "grid_auto_columns": null,
            "grid_auto_flow": null,
            "grid_auto_rows": null,
            "grid_column": null,
            "grid_gap": null,
            "grid_row": null,
            "grid_template_areas": null,
            "grid_template_columns": null,
            "grid_template_rows": null,
            "height": null,
            "justify_content": null,
            "justify_items": null,
            "left": null,
            "margin": null,
            "max_height": null,
            "max_width": null,
            "min_height": null,
            "min_width": null,
            "object_fit": null,
            "object_position": null,
            "order": null,
            "overflow": null,
            "overflow_x": null,
            "overflow_y": null,
            "padding": null,
            "right": null,
            "top": null,
            "visibility": null,
            "width": null
          }
        },
        "d054f7c812414a43a62e6b6808d7286f": {
          "model_module": "@jupyter-widgets/controls",
          "model_name": "DescriptionStyleModel",
          "model_module_version": "1.5.0",
          "state": {
            "_model_module": "@jupyter-widgets/controls",
            "_model_module_version": "1.5.0",
            "_model_name": "DescriptionStyleModel",
            "_view_count": null,
            "_view_module": "@jupyter-widgets/base",
            "_view_module_version": "1.2.0",
            "_view_name": "StyleView",
            "description_width": ""
          }
        },
        "b805932465e242f6978e7e472588e9d9": {
          "model_module": "@jupyter-widgets/base",
          "model_name": "LayoutModel",
          "model_module_version": "1.2.0",
          "state": {
            "_model_module": "@jupyter-widgets/base",
            "_model_module_version": "1.2.0",
            "_model_name": "LayoutModel",
            "_view_count": null,
            "_view_module": "@jupyter-widgets/base",
            "_view_module_version": "1.2.0",
            "_view_name": "LayoutView",
            "align_content": null,
            "align_items": null,
            "align_self": null,
            "border": null,
            "bottom": null,
            "display": null,
            "flex": null,
            "flex_flow": null,
            "grid_area": null,
            "grid_auto_columns": null,
            "grid_auto_flow": null,
            "grid_auto_rows": null,
            "grid_column": null,
            "grid_gap": null,
            "grid_row": null,
            "grid_template_areas": null,
            "grid_template_columns": null,
            "grid_template_rows": null,
            "height": null,
            "justify_content": null,
            "justify_items": null,
            "left": null,
            "margin": null,
            "max_height": null,
            "max_width": null,
            "min_height": null,
            "min_width": null,
            "object_fit": null,
            "object_position": null,
            "order": null,
            "overflow": null,
            "overflow_x": null,
            "overflow_y": null,
            "padding": null,
            "right": null,
            "top": null,
            "visibility": null,
            "width": null
          }
        },
        "63d1314c503345b3859b10b5dd06aac9": {
          "model_module": "@jupyter-widgets/controls",
          "model_name": "ProgressStyleModel",
          "model_module_version": "1.5.0",
          "state": {
            "_model_module": "@jupyter-widgets/controls",
            "_model_module_version": "1.5.0",
            "_model_name": "ProgressStyleModel",
            "_view_count": null,
            "_view_module": "@jupyter-widgets/base",
            "_view_module_version": "1.2.0",
            "_view_name": "StyleView",
            "bar_color": null,
            "description_width": ""
          }
        },
        "0a138ee1fb5849c6a6f3c10e316ec749": {
          "model_module": "@jupyter-widgets/base",
          "model_name": "LayoutModel",
          "model_module_version": "1.2.0",
          "state": {
            "_model_module": "@jupyter-widgets/base",
            "_model_module_version": "1.2.0",
            "_model_name": "LayoutModel",
            "_view_count": null,
            "_view_module": "@jupyter-widgets/base",
            "_view_module_version": "1.2.0",
            "_view_name": "LayoutView",
            "align_content": null,
            "align_items": null,
            "align_self": null,
            "border": null,
            "bottom": null,
            "display": null,
            "flex": null,
            "flex_flow": null,
            "grid_area": null,
            "grid_auto_columns": null,
            "grid_auto_flow": null,
            "grid_auto_rows": null,
            "grid_column": null,
            "grid_gap": null,
            "grid_row": null,
            "grid_template_areas": null,
            "grid_template_columns": null,
            "grid_template_rows": null,
            "height": null,
            "justify_content": null,
            "justify_items": null,
            "left": null,
            "margin": null,
            "max_height": null,
            "max_width": null,
            "min_height": null,
            "min_width": null,
            "object_fit": null,
            "object_position": null,
            "order": null,
            "overflow": null,
            "overflow_x": null,
            "overflow_y": null,
            "padding": null,
            "right": null,
            "top": null,
            "visibility": null,
            "width": null
          }
        },
        "a8e695ca33aa405980b908e789341865": {
          "model_module": "@jupyter-widgets/controls",
          "model_name": "DescriptionStyleModel",
          "model_module_version": "1.5.0",
          "state": {
            "_model_module": "@jupyter-widgets/controls",
            "_model_module_version": "1.5.0",
            "_model_name": "DescriptionStyleModel",
            "_view_count": null,
            "_view_module": "@jupyter-widgets/base",
            "_view_module_version": "1.2.0",
            "_view_name": "StyleView",
            "description_width": ""
          }
        },
        "e9213535fb704743bff3c744d4c144c3": {
          "model_module": "@jupyter-widgets/controls",
          "model_name": "HBoxModel",
          "model_module_version": "1.5.0",
          "state": {
            "_dom_classes": [],
            "_model_module": "@jupyter-widgets/controls",
            "_model_module_version": "1.5.0",
            "_model_name": "HBoxModel",
            "_view_count": null,
            "_view_module": "@jupyter-widgets/controls",
            "_view_module_version": "1.5.0",
            "_view_name": "HBoxView",
            "box_style": "",
            "children": [
              "IPY_MODEL_98a10ef76c574ef1aa4c0357668289c8",
              "IPY_MODEL_90bb4f75f3114793b9638539d9c38420",
              "IPY_MODEL_3eab12ff93c448b8934f622c7dd93940"
            ],
            "layout": "IPY_MODEL_c6c737b8270847ad8cd79cc7df33b157"
          }
        },
        "98a10ef76c574ef1aa4c0357668289c8": {
          "model_module": "@jupyter-widgets/controls",
          "model_name": "HTMLModel",
          "model_module_version": "1.5.0",
          "state": {
            "_dom_classes": [],
            "_model_module": "@jupyter-widgets/controls",
            "_model_module_version": "1.5.0",
            "_model_name": "HTMLModel",
            "_view_count": null,
            "_view_module": "@jupyter-widgets/controls",
            "_view_module_version": "1.5.0",
            "_view_name": "HTMLView",
            "description": "",
            "description_tooltip": null,
            "layout": "IPY_MODEL_3b2570fce735466a859b4131a9cfe9c6",
            "placeholder": "​",
            "style": "IPY_MODEL_d690db38ca5d4a2ca7a3bc3477420edc",
            "value": "tokenizer.json: 100%"
          }
        },
        "90bb4f75f3114793b9638539d9c38420": {
          "model_module": "@jupyter-widgets/controls",
          "model_name": "FloatProgressModel",
          "model_module_version": "1.5.0",
          "state": {
            "_dom_classes": [],
            "_model_module": "@jupyter-widgets/controls",
            "_model_module_version": "1.5.0",
            "_model_name": "FloatProgressModel",
            "_view_count": null,
            "_view_module": "@jupyter-widgets/controls",
            "_view_module_version": "1.5.0",
            "_view_name": "ProgressView",
            "bar_style": "success",
            "description": "",
            "description_tooltip": null,
            "layout": "IPY_MODEL_d6fa7b07264f4614802cf8295880014a",
            "max": 466062,
            "min": 0,
            "orientation": "horizontal",
            "style": "IPY_MODEL_b10d243d125d490991bcf6cf0f945519",
            "value": 466062
          }
        },
        "3eab12ff93c448b8934f622c7dd93940": {
          "model_module": "@jupyter-widgets/controls",
          "model_name": "HTMLModel",
          "model_module_version": "1.5.0",
          "state": {
            "_dom_classes": [],
            "_model_module": "@jupyter-widgets/controls",
            "_model_module_version": "1.5.0",
            "_model_name": "HTMLModel",
            "_view_count": null,
            "_view_module": "@jupyter-widgets/controls",
            "_view_module_version": "1.5.0",
            "_view_name": "HTMLView",
            "description": "",
            "description_tooltip": null,
            "layout": "IPY_MODEL_cb137497e99e4527be36619b06bec0d1",
            "placeholder": "​",
            "style": "IPY_MODEL_12974dd7b7864e84aaf33755267a91c3",
            "value": " 466k/466k [00:00&lt;00:00, 9.90MB/s]"
          }
        },
        "c6c737b8270847ad8cd79cc7df33b157": {
          "model_module": "@jupyter-widgets/base",
          "model_name": "LayoutModel",
          "model_module_version": "1.2.0",
          "state": {
            "_model_module": "@jupyter-widgets/base",
            "_model_module_version": "1.2.0",
            "_model_name": "LayoutModel",
            "_view_count": null,
            "_view_module": "@jupyter-widgets/base",
            "_view_module_version": "1.2.0",
            "_view_name": "LayoutView",
            "align_content": null,
            "align_items": null,
            "align_self": null,
            "border": null,
            "bottom": null,
            "display": null,
            "flex": null,
            "flex_flow": null,
            "grid_area": null,
            "grid_auto_columns": null,
            "grid_auto_flow": null,
            "grid_auto_rows": null,
            "grid_column": null,
            "grid_gap": null,
            "grid_row": null,
            "grid_template_areas": null,
            "grid_template_columns": null,
            "grid_template_rows": null,
            "height": null,
            "justify_content": null,
            "justify_items": null,
            "left": null,
            "margin": null,
            "max_height": null,
            "max_width": null,
            "min_height": null,
            "min_width": null,
            "object_fit": null,
            "object_position": null,
            "order": null,
            "overflow": null,
            "overflow_x": null,
            "overflow_y": null,
            "padding": null,
            "right": null,
            "top": null,
            "visibility": null,
            "width": null
          }
        },
        "3b2570fce735466a859b4131a9cfe9c6": {
          "model_module": "@jupyter-widgets/base",
          "model_name": "LayoutModel",
          "model_module_version": "1.2.0",
          "state": {
            "_model_module": "@jupyter-widgets/base",
            "_model_module_version": "1.2.0",
            "_model_name": "LayoutModel",
            "_view_count": null,
            "_view_module": "@jupyter-widgets/base",
            "_view_module_version": "1.2.0",
            "_view_name": "LayoutView",
            "align_content": null,
            "align_items": null,
            "align_self": null,
            "border": null,
            "bottom": null,
            "display": null,
            "flex": null,
            "flex_flow": null,
            "grid_area": null,
            "grid_auto_columns": null,
            "grid_auto_flow": null,
            "grid_auto_rows": null,
            "grid_column": null,
            "grid_gap": null,
            "grid_row": null,
            "grid_template_areas": null,
            "grid_template_columns": null,
            "grid_template_rows": null,
            "height": null,
            "justify_content": null,
            "justify_items": null,
            "left": null,
            "margin": null,
            "max_height": null,
            "max_width": null,
            "min_height": null,
            "min_width": null,
            "object_fit": null,
            "object_position": null,
            "order": null,
            "overflow": null,
            "overflow_x": null,
            "overflow_y": null,
            "padding": null,
            "right": null,
            "top": null,
            "visibility": null,
            "width": null
          }
        },
        "d690db38ca5d4a2ca7a3bc3477420edc": {
          "model_module": "@jupyter-widgets/controls",
          "model_name": "DescriptionStyleModel",
          "model_module_version": "1.5.0",
          "state": {
            "_model_module": "@jupyter-widgets/controls",
            "_model_module_version": "1.5.0",
            "_model_name": "DescriptionStyleModel",
            "_view_count": null,
            "_view_module": "@jupyter-widgets/base",
            "_view_module_version": "1.2.0",
            "_view_name": "StyleView",
            "description_width": ""
          }
        },
        "d6fa7b07264f4614802cf8295880014a": {
          "model_module": "@jupyter-widgets/base",
          "model_name": "LayoutModel",
          "model_module_version": "1.2.0",
          "state": {
            "_model_module": "@jupyter-widgets/base",
            "_model_module_version": "1.2.0",
            "_model_name": "LayoutModel",
            "_view_count": null,
            "_view_module": "@jupyter-widgets/base",
            "_view_module_version": "1.2.0",
            "_view_name": "LayoutView",
            "align_content": null,
            "align_items": null,
            "align_self": null,
            "border": null,
            "bottom": null,
            "display": null,
            "flex": null,
            "flex_flow": null,
            "grid_area": null,
            "grid_auto_columns": null,
            "grid_auto_flow": null,
            "grid_auto_rows": null,
            "grid_column": null,
            "grid_gap": null,
            "grid_row": null,
            "grid_template_areas": null,
            "grid_template_columns": null,
            "grid_template_rows": null,
            "height": null,
            "justify_content": null,
            "justify_items": null,
            "left": null,
            "margin": null,
            "max_height": null,
            "max_width": null,
            "min_height": null,
            "min_width": null,
            "object_fit": null,
            "object_position": null,
            "order": null,
            "overflow": null,
            "overflow_x": null,
            "overflow_y": null,
            "padding": null,
            "right": null,
            "top": null,
            "visibility": null,
            "width": null
          }
        },
        "b10d243d125d490991bcf6cf0f945519": {
          "model_module": "@jupyter-widgets/controls",
          "model_name": "ProgressStyleModel",
          "model_module_version": "1.5.0",
          "state": {
            "_model_module": "@jupyter-widgets/controls",
            "_model_module_version": "1.5.0",
            "_model_name": "ProgressStyleModel",
            "_view_count": null,
            "_view_module": "@jupyter-widgets/base",
            "_view_module_version": "1.2.0",
            "_view_name": "StyleView",
            "bar_color": null,
            "description_width": ""
          }
        },
        "cb137497e99e4527be36619b06bec0d1": {
          "model_module": "@jupyter-widgets/base",
          "model_name": "LayoutModel",
          "model_module_version": "1.2.0",
          "state": {
            "_model_module": "@jupyter-widgets/base",
            "_model_module_version": "1.2.0",
            "_model_name": "LayoutModel",
            "_view_count": null,
            "_view_module": "@jupyter-widgets/base",
            "_view_module_version": "1.2.0",
            "_view_name": "LayoutView",
            "align_content": null,
            "align_items": null,
            "align_self": null,
            "border": null,
            "bottom": null,
            "display": null,
            "flex": null,
            "flex_flow": null,
            "grid_area": null,
            "grid_auto_columns": null,
            "grid_auto_flow": null,
            "grid_auto_rows": null,
            "grid_column": null,
            "grid_gap": null,
            "grid_row": null,
            "grid_template_areas": null,
            "grid_template_columns": null,
            "grid_template_rows": null,
            "height": null,
            "justify_content": null,
            "justify_items": null,
            "left": null,
            "margin": null,
            "max_height": null,
            "max_width": null,
            "min_height": null,
            "min_width": null,
            "object_fit": null,
            "object_position": null,
            "order": null,
            "overflow": null,
            "overflow_x": null,
            "overflow_y": null,
            "padding": null,
            "right": null,
            "top": null,
            "visibility": null,
            "width": null
          }
        },
        "12974dd7b7864e84aaf33755267a91c3": {
          "model_module": "@jupyter-widgets/controls",
          "model_name": "DescriptionStyleModel",
          "model_module_version": "1.5.0",
          "state": {
            "_model_module": "@jupyter-widgets/controls",
            "_model_module_version": "1.5.0",
            "_model_name": "DescriptionStyleModel",
            "_view_count": null,
            "_view_module": "@jupyter-widgets/base",
            "_view_module_version": "1.2.0",
            "_view_name": "StyleView",
            "description_width": ""
          }
        },
        "4e30e8ddeb324d01b53a8196c7953153": {
          "model_module": "@jupyter-widgets/controls",
          "model_name": "HBoxModel",
          "model_module_version": "1.5.0",
          "state": {
            "_dom_classes": [],
            "_model_module": "@jupyter-widgets/controls",
            "_model_module_version": "1.5.0",
            "_model_name": "HBoxModel",
            "_view_count": null,
            "_view_module": "@jupyter-widgets/controls",
            "_view_module_version": "1.5.0",
            "_view_name": "HBoxView",
            "box_style": "",
            "children": [
              "IPY_MODEL_637cce7c8fe84fdb951fe77b60c43a28",
              "IPY_MODEL_53d151349b514ae9b59831e892114e31",
              "IPY_MODEL_9da56d9bb54b4a04a14fbd7edac9e502"
            ],
            "layout": "IPY_MODEL_18e37a716b894e50bf03505a02f39ba4"
          }
        },
        "637cce7c8fe84fdb951fe77b60c43a28": {
          "model_module": "@jupyter-widgets/controls",
          "model_name": "HTMLModel",
          "model_module_version": "1.5.0",
          "state": {
            "_dom_classes": [],
            "_model_module": "@jupyter-widgets/controls",
            "_model_module_version": "1.5.0",
            "_model_name": "HTMLModel",
            "_view_count": null,
            "_view_module": "@jupyter-widgets/controls",
            "_view_module_version": "1.5.0",
            "_view_name": "HTMLView",
            "description": "",
            "description_tooltip": null,
            "layout": "IPY_MODEL_c336fd80c5a1410d9bffde1827eadf75",
            "placeholder": "​",
            "style": "IPY_MODEL_85ff2e92c7a44c30b88b0fbfa95dc88e",
            "value": "config.json: 100%"
          }
        },
        "53d151349b514ae9b59831e892114e31": {
          "model_module": "@jupyter-widgets/controls",
          "model_name": "FloatProgressModel",
          "model_module_version": "1.5.0",
          "state": {
            "_dom_classes": [],
            "_model_module": "@jupyter-widgets/controls",
            "_model_module_version": "1.5.0",
            "_model_name": "FloatProgressModel",
            "_view_count": null,
            "_view_module": "@jupyter-widgets/controls",
            "_view_module_version": "1.5.0",
            "_view_name": "ProgressView",
            "bar_style": "success",
            "description": "",
            "description_tooltip": null,
            "layout": "IPY_MODEL_ce1bbceba092485099fd9eccf53ca9b7",
            "max": 483,
            "min": 0,
            "orientation": "horizontal",
            "style": "IPY_MODEL_1563d5782df8420ca9c1a3021ad2ed4e",
            "value": 483
          }
        },
        "9da56d9bb54b4a04a14fbd7edac9e502": {
          "model_module": "@jupyter-widgets/controls",
          "model_name": "HTMLModel",
          "model_module_version": "1.5.0",
          "state": {
            "_dom_classes": [],
            "_model_module": "@jupyter-widgets/controls",
            "_model_module_version": "1.5.0",
            "_model_name": "HTMLModel",
            "_view_count": null,
            "_view_module": "@jupyter-widgets/controls",
            "_view_module_version": "1.5.0",
            "_view_name": "HTMLView",
            "description": "",
            "description_tooltip": null,
            "layout": "IPY_MODEL_721ca2bed9d647f7b2b67047405f1fdd",
            "placeholder": "​",
            "style": "IPY_MODEL_64f8f88601c444e2a9b94febbb1a87f4",
            "value": " 483/483 [00:00&lt;00:00, 12.9kB/s]"
          }
        },
        "18e37a716b894e50bf03505a02f39ba4": {
          "model_module": "@jupyter-widgets/base",
          "model_name": "LayoutModel",
          "model_module_version": "1.2.0",
          "state": {
            "_model_module": "@jupyter-widgets/base",
            "_model_module_version": "1.2.0",
            "_model_name": "LayoutModel",
            "_view_count": null,
            "_view_module": "@jupyter-widgets/base",
            "_view_module_version": "1.2.0",
            "_view_name": "LayoutView",
            "align_content": null,
            "align_items": null,
            "align_self": null,
            "border": null,
            "bottom": null,
            "display": null,
            "flex": null,
            "flex_flow": null,
            "grid_area": null,
            "grid_auto_columns": null,
            "grid_auto_flow": null,
            "grid_auto_rows": null,
            "grid_column": null,
            "grid_gap": null,
            "grid_row": null,
            "grid_template_areas": null,
            "grid_template_columns": null,
            "grid_template_rows": null,
            "height": null,
            "justify_content": null,
            "justify_items": null,
            "left": null,
            "margin": null,
            "max_height": null,
            "max_width": null,
            "min_height": null,
            "min_width": null,
            "object_fit": null,
            "object_position": null,
            "order": null,
            "overflow": null,
            "overflow_x": null,
            "overflow_y": null,
            "padding": null,
            "right": null,
            "top": null,
            "visibility": null,
            "width": null
          }
        },
        "c336fd80c5a1410d9bffde1827eadf75": {
          "model_module": "@jupyter-widgets/base",
          "model_name": "LayoutModel",
          "model_module_version": "1.2.0",
          "state": {
            "_model_module": "@jupyter-widgets/base",
            "_model_module_version": "1.2.0",
            "_model_name": "LayoutModel",
            "_view_count": null,
            "_view_module": "@jupyter-widgets/base",
            "_view_module_version": "1.2.0",
            "_view_name": "LayoutView",
            "align_content": null,
            "align_items": null,
            "align_self": null,
            "border": null,
            "bottom": null,
            "display": null,
            "flex": null,
            "flex_flow": null,
            "grid_area": null,
            "grid_auto_columns": null,
            "grid_auto_flow": null,
            "grid_auto_rows": null,
            "grid_column": null,
            "grid_gap": null,
            "grid_row": null,
            "grid_template_areas": null,
            "grid_template_columns": null,
            "grid_template_rows": null,
            "height": null,
            "justify_content": null,
            "justify_items": null,
            "left": null,
            "margin": null,
            "max_height": null,
            "max_width": null,
            "min_height": null,
            "min_width": null,
            "object_fit": null,
            "object_position": null,
            "order": null,
            "overflow": null,
            "overflow_x": null,
            "overflow_y": null,
            "padding": null,
            "right": null,
            "top": null,
            "visibility": null,
            "width": null
          }
        },
        "85ff2e92c7a44c30b88b0fbfa95dc88e": {
          "model_module": "@jupyter-widgets/controls",
          "model_name": "DescriptionStyleModel",
          "model_module_version": "1.5.0",
          "state": {
            "_model_module": "@jupyter-widgets/controls",
            "_model_module_version": "1.5.0",
            "_model_name": "DescriptionStyleModel",
            "_view_count": null,
            "_view_module": "@jupyter-widgets/base",
            "_view_module_version": "1.2.0",
            "_view_name": "StyleView",
            "description_width": ""
          }
        },
        "ce1bbceba092485099fd9eccf53ca9b7": {
          "model_module": "@jupyter-widgets/base",
          "model_name": "LayoutModel",
          "model_module_version": "1.2.0",
          "state": {
            "_model_module": "@jupyter-widgets/base",
            "_model_module_version": "1.2.0",
            "_model_name": "LayoutModel",
            "_view_count": null,
            "_view_module": "@jupyter-widgets/base",
            "_view_module_version": "1.2.0",
            "_view_name": "LayoutView",
            "align_content": null,
            "align_items": null,
            "align_self": null,
            "border": null,
            "bottom": null,
            "display": null,
            "flex": null,
            "flex_flow": null,
            "grid_area": null,
            "grid_auto_columns": null,
            "grid_auto_flow": null,
            "grid_auto_rows": null,
            "grid_column": null,
            "grid_gap": null,
            "grid_row": null,
            "grid_template_areas": null,
            "grid_template_columns": null,
            "grid_template_rows": null,
            "height": null,
            "justify_content": null,
            "justify_items": null,
            "left": null,
            "margin": null,
            "max_height": null,
            "max_width": null,
            "min_height": null,
            "min_width": null,
            "object_fit": null,
            "object_position": null,
            "order": null,
            "overflow": null,
            "overflow_x": null,
            "overflow_y": null,
            "padding": null,
            "right": null,
            "top": null,
            "visibility": null,
            "width": null
          }
        },
        "1563d5782df8420ca9c1a3021ad2ed4e": {
          "model_module": "@jupyter-widgets/controls",
          "model_name": "ProgressStyleModel",
          "model_module_version": "1.5.0",
          "state": {
            "_model_module": "@jupyter-widgets/controls",
            "_model_module_version": "1.5.0",
            "_model_name": "ProgressStyleModel",
            "_view_count": null,
            "_view_module": "@jupyter-widgets/base",
            "_view_module_version": "1.2.0",
            "_view_name": "StyleView",
            "bar_color": null,
            "description_width": ""
          }
        },
        "721ca2bed9d647f7b2b67047405f1fdd": {
          "model_module": "@jupyter-widgets/base",
          "model_name": "LayoutModel",
          "model_module_version": "1.2.0",
          "state": {
            "_model_module": "@jupyter-widgets/base",
            "_model_module_version": "1.2.0",
            "_model_name": "LayoutModel",
            "_view_count": null,
            "_view_module": "@jupyter-widgets/base",
            "_view_module_version": "1.2.0",
            "_view_name": "LayoutView",
            "align_content": null,
            "align_items": null,
            "align_self": null,
            "border": null,
            "bottom": null,
            "display": null,
            "flex": null,
            "flex_flow": null,
            "grid_area": null,
            "grid_auto_columns": null,
            "grid_auto_flow": null,
            "grid_auto_rows": null,
            "grid_column": null,
            "grid_gap": null,
            "grid_row": null,
            "grid_template_areas": null,
            "grid_template_columns": null,
            "grid_template_rows": null,
            "height": null,
            "justify_content": null,
            "justify_items": null,
            "left": null,
            "margin": null,
            "max_height": null,
            "max_width": null,
            "min_height": null,
            "min_width": null,
            "object_fit": null,
            "object_position": null,
            "order": null,
            "overflow": null,
            "overflow_x": null,
            "overflow_y": null,
            "padding": null,
            "right": null,
            "top": null,
            "visibility": null,
            "width": null
          }
        },
        "64f8f88601c444e2a9b94febbb1a87f4": {
          "model_module": "@jupyter-widgets/controls",
          "model_name": "DescriptionStyleModel",
          "model_module_version": "1.5.0",
          "state": {
            "_model_module": "@jupyter-widgets/controls",
            "_model_module_version": "1.5.0",
            "_model_name": "DescriptionStyleModel",
            "_view_count": null,
            "_view_module": "@jupyter-widgets/base",
            "_view_module_version": "1.2.0",
            "_view_name": "StyleView",
            "description_width": ""
          }
        }
      }
    }
  },
  "cells": [
    {
      "cell_type": "markdown",
      "metadata": {
        "id": "view-in-github",
        "colab_type": "text"
      },
      "source": [
        "<a href=\"https://colab.research.google.com/github/lonsst/ML_practice/blob/main/%D0%9B%D0%A05_%D0%92%D0%BD%D1%83%D0%BA%D0%BE%D0%B2%D1%81%D0%BA%D0%B0%D1%8F.ipynb\" target=\"_parent\"><img src=\"https://colab.research.google.com/assets/colab-badge.svg\" alt=\"Open In Colab\"/></a>"
      ]
    },
    {
      "cell_type": "code",
      "execution_count": null,
      "metadata": {
        "id": "0EntjiCxo5Gc"
      },
      "outputs": [],
      "source": [
        "from bs4 import BeautifulSoup\n",
        "import requests\n",
        "import csv\n",
        "import pandas as pd\n",
        "import matplotlib as mpl\n",
        "import matplotlib.pyplot as plt"
      ]
    },
    {
      "cell_type": "code",
      "source": [
        "n = 50\n",
        "restaurants_all = []\n",
        "dates_all = []\n",
        "score_all = []\n",
        "reviews_all = []\n",
        "for i in range(n):\n",
        "    site = 'https://www.restoran.ru/msk/opinions/?PAGEN_1=' + str(i + 1)\n",
        "    response = requests.get(site)\n",
        "    bs = BeautifulSoup(response.text, 'html.parser')\n",
        "    restaurants = bs.find_all('div', class_='place-name-wrap')\n",
        "    dates = bs.find_all('div', class_='review-date')\n",
        "    reviews = bs.find_all('span', class_='review-text-preview')\n",
        "    scores = bs.find_all('div', class_='place-rating')\n",
        "    for restaurant in restaurants:\n",
        "        restaurant = ''.join(char for char in str(restaurant.text) if char.isalpha())\n",
        "        restaurants_all.append(restaurant)\n",
        "\n",
        "    for date in dates:\n",
        "        dates_all.append(date.text)\n",
        "\n",
        "    for review in reviews:\n",
        "        reviews_all.append(review.text)\n",
        "\n",
        "    for score in scores:\n",
        "      score_all.append(int(str(score.text)[0]))\n",
        "\n",
        "with open(\"dataset.csv\", mode=\"w\", encoding='utf-8-sig') as w_file:\n",
        "    file_writer = csv.writer(w_file, delimiter=',', lineterminator=\"\\r\")\n",
        "    file_writer.writerow([\"Ресторан\", \"Дата отзыва\", \"Отзыв\", \"Оценка\"])\n",
        "    for i in range(len(restaurants_all)):\n",
        "        file_writer.writerow(\n",
        "            [i, restaurants_all[i], dates_all[i], reviews_all[i], score_all[i]])\n",
        "\n",
        "df = pd.read_csv('dataset.csv', index_col=0)\n",
        "\n",
        "class_1 = df[df['Оценка'] == 1]\n",
        "class_2 = df[df['Оценка'] == 2]\n",
        "class_3 = df[df['Оценка'] == 3]\n",
        "class_4 = df[df['Оценка'] == 4]\n",
        "class_5 = df[df['Оценка'] == 5]\n",
        "\n",
        "len_new = len(class_5)\n",
        "undersampled_class_4_data = class_4.sample(n=len_new, replace=True, random_state=42)\n",
        "undersampled_class_5_data = class_5.sample(n=len_new, replace=True, random_state=42)\n",
        "\n",
        "oversampled_class_1_data = class_1.sample(n=len_new, replace=True, random_state=42)\n",
        "oversampled_class_2_data = class_2.sample(n=len_new, replace=True, random_state=42)\n",
        "oversampled_class_3_data = class_3.sample(n=len_new, replace=True, random_state=42)\n",
        "\n",
        "new_df = pd.concat([oversampled_class_1_data, oversampled_class_2_data, oversampled_class_3_data,\n",
        "                          undersampled_class_4_data, undersampled_class_5_data])\n",
        "\n",
        "new_df['Оценка'].value_counts(ascending=False).plot(kind='pie', autopct='%1.0f%%')"
      ],
      "metadata": {
        "colab": {
          "base_uri": "https://localhost:8080/",
          "height": 423
        },
        "id": "JO7OY8zOpDjZ",
        "outputId": "5389573b-1818-457a-a8c4-25b6d8071aaa"
      },
      "execution_count": null,
      "outputs": [
        {
          "output_type": "execute_result",
          "data": {
            "text/plain": [
              "<Axes: ylabel='Оценка'>"
            ]
          },
          "metadata": {},
          "execution_count": 3
        },
        {
          "output_type": "display_data",
          "data": {
            "text/plain": [
              "<Figure size 640x480 with 1 Axes>"
            ],
            "image/png": "[encoded data removed]"
          },
          "metadata": {}
        }
      ]
    },
    {
      "cell_type": "code",
      "source": [
        "new_df.drop(\"Ресторан\", axis= 1 , inplace= True )\n",
        "new_df.drop(\"Дата отзыва\", axis= 1 , inplace= True )"
      ],
      "metadata": {
        "id": "06HmrShGrK_F"
      },
      "execution_count": null,
      "outputs": []
    },
    {
      "cell_type": "code",
      "source": [
        "new_df.tail(5)"
      ],
      "metadata": {
        "colab": {
          "base_uri": "https://localhost:8080/",
          "height": 206
        },
        "id": "J0KVZNETrURH",
        "outputId": "f685fceb-d457-4cf1-88dc-7feb661da7a3"
      },
      "execution_count": null,
      "outputs": [
        {
          "output_type": "execute_result",
          "data": {
            "text/plain": [
              "                                                 Отзыв  Оценка\n",
              "830  Хороший клуб в котором можно провести время в ...     5.0\n",
              "535  В ресторане доброделательная обс ановка встреч...     5.0\n",
              "474  Нравится стриптиз. Бывал уже много раз в стрип...     5.0\n",
              "158  Классное место! Атмосфера приятная и расслабле...     5.0\n",
              "574  Определенно it's a match! Увидела этот рестора...     5.0"
            ],
            "text/html": [
              "\n",
              "  <div id=\"df-7f07627e-07e1-4085-b9be-65f1e15872d6\" class=\"colab-df-container\">\n",
              "    <div>\n",
              "<style scoped>\n",
              "    .dataframe tbody tr th:only-of-type {\n",
              "        vertical-align: middle;\n",
              "    }\n",
              "\n",
              "    .dataframe tbody tr th {\n",
              "        vertical-align: top;\n",
              "    }\n",
              "\n",
              "    .dataframe thead th {\n",
              "        text-align: right;\n",
              "    }\n",
              "</style>\n",
              "<table border=\"1\" class=\"dataframe\">\n",
              "  <thead>\n",
              "    <tr style=\"text-align: right;\">\n",
              "      <th></th>\n",
              "      <th>Отзыв</th>\n",
              "      <th>Оценка</th>\n",
              "    </tr>\n",
              "  </thead>\n",
              "  <tbody>\n",
              "    <tr>\n",
              "      <th>830</th>\n",
              "      <td>Хороший клуб в котором можно провести время в ...</td>\n",
              "      <td>5.0</td>\n",
              "    </tr>\n",
              "    <tr>\n",
              "      <th>535</th>\n",
              "      <td>В ресторане доброделательная обс ановка встреч...</td>\n",
              "      <td>5.0</td>\n",
              "    </tr>\n",
              "    <tr>\n",
              "      <th>474</th>\n",
              "      <td>Нравится стриптиз. Бывал уже много раз в стрип...</td>\n",
              "      <td>5.0</td>\n",
              "    </tr>\n",
              "    <tr>\n",
              "      <th>158</th>\n",
              "      <td>Классное место! Атмосфера приятная и расслабле...</td>\n",
              "      <td>5.0</td>\n",
              "    </tr>\n",
              "    <tr>\n",
              "      <th>574</th>\n",
              "      <td>Определенно it's a match! Увидела этот рестора...</td>\n",
              "      <td>5.0</td>\n",
              "    </tr>\n",
              "  </tbody>\n",
              "</table>\n",
              "</div>\n",
              "    <div class=\"colab-df-buttons\">\n",
              "\n",
              "  <div class=\"colab-df-container\">\n",
              "    <button class=\"colab-df-convert\" onclick=\"convertToInteractive('df-7f07627e-07e1-4085-b9be-65f1e15872d6')\"\n",
              "            title=\"Convert this dataframe to an interactive table.\"\n",
              "            style=\"display:none;\">\n",
              "\n",
              "  <svg xmlns=\"http://www.w3.org/2000/svg\" height=\"24px\" viewBox=\"0 -960 960 960\">\n",
              "    <path d=\"M120-120v-720h720v720H120Zm60-500h600v-160H180v160Zm220 220h160v-160H400v160Zm0 220h160v-160H400v160ZM180-400h160v-160H180v160Zm440 0h160v-160H620v160ZM180-180h160v-160H180v160Zm440 0h160v-160H620v160Z\"/>\n",
              "  </svg>\n",
              "    </button>\n",
              "\n",
              "  <style>\n",
              "    .colab-df-container {\n",
              "      display:flex;\n",
              "      gap: 12px;\n",
              "    }\n",
              "\n",
              "    .colab-df-convert {\n",
              "      background-color: #E8F0FE;\n",
              "      border: none;\n",
              "      border-radius: 50%;\n",
              "      cursor: pointer;\n",
              "      display: none;\n",
              "      fill: #1967D2;\n",
              "      height: 32px;\n",
              "      padding: 0 0 0 0;\n",
              "      width: 32px;\n",
              "    }\n",
              "\n",
              "    .colab-df-convert:hover {\n",
              "      background-color: #E2EBFA;\n",
              "      box-shadow: 0px 1px 2px rgba(60, 64, 67, 0.3), 0px 1px 3px 1px rgba(60, 64, 67, 0.15);\n",
              "      fill: #174EA6;\n",
              "    }\n",
              "\n",
              "    .colab-df-buttons div {\n",
              "      margin-bottom: 4px;\n",
              "    }\n",
              "\n",
              "    [theme=dark] .colab-df-convert {\n",
              "      background-color: #3B4455;\n",
              "      fill: #D2E3FC;\n",
              "    }\n",
              "\n",
              "    [theme=dark] .colab-df-convert:hover {\n",
              "      background-color: #434B5C;\n",
              "      box-shadow: 0px 1px 3px 1px rgba(0, 0, 0, 0.15);\n",
              "      filter: drop-shadow(0px 1px 2px rgba(0, 0, 0, 0.3));\n",
              "      fill: #FFFFFF;\n",
              "    }\n",
              "  </style>\n",
              "\n",
              "    <script>\n",
              "      const buttonEl =\n",
              "        document.querySelector('#df-7f07627e-07e1-4085-b9be-65f1e15872d6 button.colab-df-convert');\n",
              "      buttonEl.style.display =\n",
              "        google.colab.kernel.accessAllowed ? 'block' : 'none';\n",
              "\n",
              "      async function convertToInteractive(key) {\n",
              "        const element = document.querySelector('#df-7f07627e-07e1-4085-b9be-65f1e15872d6');\n",
              "        const dataTable =\n",
              "          await google.colab.kernel.invokeFunction('convertToInteractive',\n",
              "                                                    [key], {});\n",
              "        if (!dataTable) return;\n",
              "\n",
              "        const docLinkHtml = 'Like what you see? Visit the ' +\n",
              "          '<a target=\"_blank\" href=https://colab.research.google.com/notebooks/data_table.ipynb>data table notebook</a>'\n",
              "          + ' to learn more about interactive tables.';\n",
              "        element.innerHTML = '';\n",
              "        dataTable['output_type'] = 'display_data';\n",
              "        await google.colab.output.renderOutput(dataTable, element);\n",
              "        const docLink = document.createElement('div');\n",
              "        docLink.innerHTML = docLinkHtml;\n",
              "        element.appendChild(docLink);\n",
              "      }\n",
              "    </script>\n",
              "  </div>\n",
              "\n",
              "\n",
              "<div id=\"df-9e665dee-63e6-46f4-b8f0-03fb0940c9cd\">\n",
              "  <button class=\"colab-df-quickchart\" onclick=\"quickchart('df-9e665dee-63e6-46f4-b8f0-03fb0940c9cd')\"\n",
              "            title=\"Suggest charts\"\n",
              "            style=\"display:none;\">\n",
              "\n",
              "<svg xmlns=\"http://www.w3.org/2000/svg\" height=\"24px\"viewBox=\"0 0 24 24\"\n",
              "     width=\"24px\">\n",
              "    <g>\n",
              "        <path d=\"M19 3H5c-1.1 0-2 .9-2 2v14c0 1.1.9 2 2 2h14c1.1 0 2-.9 2-2V5c0-1.1-.9-2-2-2zM9 17H7v-7h2v7zm4 0h-2V7h2v10zm4 0h-2v-4h2v4z\"/>\n",
              "    </g>\n",
              "</svg>\n",
              "  </button>\n",
              "\n",
              "<style>\n",
              "  .colab-df-quickchart {\n",
              "      --bg-color: #E8F0FE;\n",
              "      --fill-color: #1967D2;\n",
              "      --hover-bg-color: #E2EBFA;\n",
              "      --hover-fill-color: #174EA6;\n",
              "      --disabled-fill-color: #AAA;\n",
              "      --disabled-bg-color: #DDD;\n",
              "  }\n",
              "\n",
              "  [theme=dark] .colab-df-quickchart {\n",
              "      --bg-color: #3B4455;\n",
              "      --fill-color: #D2E3FC;\n",
              "      --hover-bg-color: #434B5C;\n",
              "      --hover-fill-color: #FFFFFF;\n",
              "      --disabled-bg-color: #3B4455;\n",
              "      --disabled-fill-color: #666;\n",
              "  }\n",
              "\n",
              "  .colab-df-quickchart {\n",
              "    background-color: var(--bg-color);\n",
              "    border: none;\n",
              "    border-radius: 50%;\n",
              "    cursor: pointer;\n",
              "    display: none;\n",
              "    fill: var(--fill-color);\n",
              "    height: 32px;\n",
              "    padding: 0;\n",
              "    width: 32px;\n",
              "  }\n",
              "\n",
              "  .colab-df-quickchart:hover {\n",
              "    background-color: var(--hover-bg-color);\n",
              "    box-shadow: 0 1px 2px rgba(60, 64, 67, 0.3), 0 1px 3px 1px rgba(60, 64, 67, 0.15);\n",
              "    fill: var(--button-hover-fill-color);\n",
              "  }\n",
              "\n",
              "  .colab-df-quickchart-complete:disabled,\n",
              "  .colab-df-quickchart-complete:disabled:hover {\n",
              "    background-color: var(--disabled-bg-color);\n",
              "    fill: var(--disabled-fill-color);\n",
              "    box-shadow: none;\n",
              "  }\n",
              "\n",
              "  .colab-df-spinner {\n",
              "    border: 2px solid var(--fill-color);\n",
              "    border-color: transparent;\n",
              "    border-bottom-color: var(--fill-color);\n",
              "    animation:\n",
              "      spin 1s steps(1) infinite;\n",
              "  }\n",
              "\n",
              "  @keyframes spin {\n",
              "    0% {\n",
              "      border-color: transparent;\n",
              "      border-bottom-color: var(--fill-color);\n",
              "      border-left-color: var(--fill-color);\n",
              "    }\n",
              "    20% {\n",
              "      border-color: transparent;\n",
              "      border-left-color: var(--fill-color);\n",
              "      border-top-color: var(--fill-color);\n",
              "    }\n",
              "    30% {\n",
              "      border-color: transparent;\n",
              "      border-left-color: var(--fill-color);\n",
              "      border-top-color: var(--fill-color);\n",
              "      border-right-color: var(--fill-color);\n",
              "    }\n",
              "    40% {\n",
              "      border-color: transparent;\n",
              "      border-right-color: var(--fill-color);\n",
              "      border-top-color: var(--fill-color);\n",
              "    }\n",
              "    60% {\n",
              "      border-color: transparent;\n",
              "      border-right-color: var(--fill-color);\n",
              "    }\n",
              "    80% {\n",
              "      border-color: transparent;\n",
              "      border-right-color: var(--fill-color);\n",
              "      border-bottom-color: var(--fill-color);\n",
              "    }\n",
              "    90% {\n",
              "      border-color: transparent;\n",
              "      border-bottom-color: var(--fill-color);\n",
              "    }\n",
              "  }\n",
              "</style>\n",
              "\n",
              "  <script>\n",
              "    async function quickchart(key) {\n",
              "      const quickchartButtonEl =\n",
              "        document.querySelector('#' + key + ' button');\n",
              "      quickchartButtonEl.disabled = true;  // To prevent multiple clicks.\n",
              "      quickchartButtonEl.classList.add('colab-df-spinner');\n",
              "      try {\n",
              "        const charts = await google.colab.kernel.invokeFunction(\n",
              "            'suggestCharts', [key], {});\n",
              "      } catch (error) {\n",
              "        console.error('Error during call to suggestCharts:', error);\n",
              "      }\n",
              "      quickchartButtonEl.classList.remove('colab-df-spinner');\n",
              "      quickchartButtonEl.classList.add('colab-df-quickchart-complete');\n",
              "    }\n",
              "    (() => {\n",
              "      let quickchartButtonEl =\n",
              "        document.querySelector('#df-9e665dee-63e6-46f4-b8f0-03fb0940c9cd button');\n",
              "      quickchartButtonEl.style.display =\n",
              "        google.colab.kernel.accessAllowed ? 'block' : 'none';\n",
              "    })();\n",
              "  </script>\n",
              "</div>\n",
              "    </div>\n",
              "  </div>\n"
            ]
          },
          "metadata": {},
          "execution_count": 4
        }
      ]
    },
    {
      "cell_type": "markdown",
      "source": [],
      "metadata": {
        "id": "lyabG5a8rxjZ"
      }
    },
    {
      "cell_type": "code",
      "source": [
        "from sklearn.feature_extraction.text import TfidfVectorizer\n",
        "from sklearn.model_selection import train_test_split\n",
        "from sklearn.metrics import accuracy_score\n",
        "from sklearn import svm\n",
        "from sklearn.ensemble import RandomForestClassifier"
      ],
      "metadata": {
        "id": "4MGzY-8xrgqM"
      },
      "execution_count": null,
      "outputs": []
    },
    {
      "cell_type": "code",
      "source": [
        "X_train, X_test, y_train, y_test = train_test_split(new_df['Отзыв'], new_df['Оценка'], test_size=0.2, random_state=42)\n",
        "\n",
        "tfidf_vectorizer = TfidfVectorizer(max_features=10000)\n",
        "\n",
        "X_train_tfidf = tfidf_vectorizer.fit_transform(X_train)\n",
        "X_test_tfidf = tfidf_vectorizer.transform(X_test)\n",
        "\n",
        "itog = {}"
      ],
      "metadata": {
        "id": "Nkfijhzfryou"
      },
      "execution_count": null,
      "outputs": []
    },
    {
      "cell_type": "code",
      "source": [
        "%%time\n",
        "svc = svm.SVC()\n",
        "svc.fit(X_train_tfidf, y_train)\n",
        "\n",
        "\n",
        "y_pred = svc.predict(X_test_tfidf)\n",
        "print(accuracy_score(y_test,y_pred))\n",
        "itog['SVC'] = round(accuracy_score(y_test, y_pred), 2)"
      ],
      "metadata": {
        "colab": {
          "base_uri": "https://localhost:8080/"
        },
        "id": "gQXbCFHSsIB_",
        "outputId": "d08d28b8-d153-413a-9a59-24c156b3c2c1"
      },
      "execution_count": null,
      "outputs": [
        {
          "output_type": "stream",
          "name": "stdout",
          "text": [
            "0.8625\n",
            "CPU times: user 257 ms, sys: 0 ns, total: 257 ms\n",
            "Wall time: 258 ms\n"
          ]
        }
      ]
    },
    {
      "cell_type": "code",
      "source": [
        "y_test = pd.Series(y_test, name='Actual').reset_index(drop=True)\n",
        "y_pred = pd.Series(y_pred, name='Predicted')\n",
        "df_confusion = pd.crosstab(y_test, y_pred)\n",
        "\n",
        "print(df_confusion)"
      ],
      "metadata": {
        "colab": {
          "base_uri": "https://localhost:8080/"
        },
        "id": "prrOA1Hhs8uj",
        "outputId": "4a70166c-2770-4365-8d9d-67e38ef69251"
      },
      "execution_count": null,
      "outputs": [
        {
          "output_type": "stream",
          "name": "stdout",
          "text": [
            "Predicted  1.0  2.0  3.0  4.0  5.0\n",
            "Actual                            \n",
            "1.0         46    0    0    0    0\n",
            "2.0          0   47    0    9    0\n",
            "3.0          0    0   42    2    0\n",
            "4.0          0    0    0   40   10\n",
            "5.0          0    1    0   11   32\n"
          ]
        }
      ]
    },
    {
      "cell_type": "code",
      "source": [
        "%%time\n",
        "rf= RandomForestClassifier()\n",
        "rf.fit(X_train_tfidf, y_train)\n",
        "\n",
        "y_pred = rf.predict(X_test_tfidf)\n",
        "print(accuracy_score(y_test, y_pred))\n",
        "itog['RandomForestClassifier'] = round(accuracy_score(y_test, y_pred), 2)"
      ],
      "metadata": {
        "colab": {
          "base_uri": "https://localhost:8080/"
        },
        "id": "78SmVBlStE2X",
        "outputId": "543954dd-4be4-4cac-847e-ff0a32ee5c72"
      },
      "execution_count": null,
      "outputs": [
        {
          "output_type": "stream",
          "name": "stdout",
          "text": [
            "0.8541666666666666\n",
            "CPU times: user 771 ms, sys: 9.57 ms, total: 780 ms\n",
            "Wall time: 972 ms\n"
          ]
        }
      ]
    },
    {
      "cell_type": "code",
      "source": [
        "y_test = pd.Series(y_test, name='Actual').reset_index(drop=True)\n",
        "y_pred = pd.Series(y_pred, name='Predicted')\n",
        "df_confusion = pd.crosstab(y_test, y_pred)\n",
        "\n",
        "print(df_confusion)"
      ],
      "metadata": {
        "colab": {
          "base_uri": "https://localhost:8080/"
        },
        "id": "rAO1S_M1tFEI",
        "outputId": "3d51fc5d-894e-49cd-87db-38b9717c0fc9"
      },
      "execution_count": null,
      "outputs": [
        {
          "output_type": "stream",
          "name": "stdout",
          "text": [
            "Predicted  1.0  2.0  3.0  4.0  5.0\n",
            "Actual                            \n",
            "1.0         46    0    0    0    0\n",
            "2.0          0   50    0    3    3\n",
            "3.0          0    0   42    2    0\n",
            "4.0          0    1    2   34   13\n",
            "5.0          0    1    1    9   33\n"
          ]
        }
      ]
    },
    {
      "cell_type": "code",
      "source": [
        "for key, value in itog.items():\n",
        "  print(key, value)"
      ],
      "metadata": {
        "colab": {
          "base_uri": "https://localhost:8080/"
        },
        "id": "9Wl2QOf9tGr4",
        "outputId": "182c494d-7c7a-47f7-bb41-679d80f0a4eb"
      },
      "execution_count": null,
      "outputs": [
        {
          "output_type": "stream",
          "name": "stdout",
          "text": [
            "SVC 0.86\n",
            "RandomForestClassifier 0.85\n"
          ]
        }
      ]
    },
    {
      "cell_type": "code",
      "source": [
        "print('\\nClassification Report:')\n",
        "print(classification_report(y_test, y_pred))"
      ],
      "metadata": {
        "colab": {
          "base_uri": "https://localhost:8080/"
        },
        "id": "8WfXsBAvtfbL",
        "outputId": "a6d4d090-1ec2-4364-b1d7-1b227b317e3a"
      },
      "execution_count": null,
      "outputs": [
        {
          "output_type": "stream",
          "name": "stdout",
          "text": [
            "\n",
            "Classification Report:\n",
            "              precision    recall  f1-score   support\n",
            "\n",
            "         1.0       1.00      1.00      1.00        46\n",
            "         2.0       0.96      0.89      0.93        56\n",
            "         3.0       0.93      0.95      0.94        44\n",
            "         4.0       0.71      0.68      0.69        50\n",
            "         5.0       0.67      0.75      0.71        44\n",
            "\n",
            "    accuracy                           0.85       240\n",
            "   macro avg       0.86      0.86      0.85       240\n",
            "weighted avg       0.86      0.85      0.86       240\n",
            "\n"
          ]
        }
      ]
    },
    {
      "cell_type": "markdown",
      "source": [
        "Обучение с помщью RNN"
      ],
      "metadata": {
        "id": "Aw6Yqly_tnqK"
      }
    },
    {
      "cell_type": "code",
      "source": [
        "import tensorflow as tf\n",
        "from sklearn.preprocessing import LabelEncoder\n",
        "from tensorflow.keras.models import Sequential\n",
        "from tensorflow.keras.layers import Embedding, LSTM, Dense\n",
        "from tensorflow.keras.preprocessing.sequence import pad_sequences\n",
        "from tensorflow.keras.utils import to_categorical\n",
        "from tensorflow.keras.callbacks import EarlyStopping\n",
        "from tensorflow.keras.preprocessing.text import Tokenizer\n",
        "from tensorflow.keras.layers import Dropout, Bidirectional, BatchNormalization\n",
        "from keras.regularizers import l2"
      ],
      "metadata": {
        "id": "81M6Td9Dt9p3"
      },
      "execution_count": null,
      "outputs": []
    },
    {
      "cell_type": "code",
      "source": [
        "new_df['Отзыв'] = new_df['Отзыв'].fillna('')\n",
        "\n",
        "le = LabelEncoder()\n",
        "new_df['Оценка'] = le.fit_transform(new_df['Оценка'])\n",
        "\n",
        "X_train, X_test, y_train, y_test = train_test_split(new_df['Отзыв'], new_df['Оценка'], test_size=0.2, random_state=42)\n",
        "\n",
        "max_words = 5000\n",
        "tokenizer = Tokenizer(num_words=max_words)\n",
        "tokenizer.fit_on_texts(X_train)\n",
        "\n",
        "X_train_sequences = tokenizer.texts_to_sequences(X_train)\n",
        "X_test_sequences = tokenizer.texts_to_sequences(X_test)\n",
        "\n",
        "max_sequence_length = 100\n",
        "X_train_pad = pad_sequences(X_train_sequences, maxlen=max_sequence_length)\n",
        "X_test_pad = pad_sequences(X_test_sequences, maxlen=max_sequence_length)\n",
        "\n",
        "y_train_one_hot = to_categorical(y_train)\n",
        "y_test_one_hot = to_categorical(y_test)\n",
        "\n",
        "early_stopping = EarlyStopping(\n",
        "    monitor='val_loss',\n",
        "    patience=2,\n",
        "    mode='min',\n",
        "    restore_best_weights=True)\n",
        "\n",
        "embedding_dim = 50"
      ],
      "metadata": {
        "id": "21ed0udRtqUn"
      },
      "execution_count": null,
      "outputs": []
    },
    {
      "cell_type": "code",
      "source": [
        "model = Sequential()\n",
        "model.add(Embedding(input_dim=max_words, output_dim=embedding_dim, input_length=max_sequence_length))\n",
        "model.add(Bidirectional(LSTM(128)))\n",
        "model.add(Dense(32, activation='relu'))\n",
        "model.add(Dense(5, activation='softmax'))"
      ],
      "metadata": {
        "id": "lPw1UztBuQ0D"
      },
      "execution_count": null,
      "outputs": []
    },
    {
      "cell_type": "code",
      "source": [
        "model.compile(optimizer='adam', loss='categorical_crossentropy', metrics=['accuracy'])\n",
        "model.fit(X_train_pad, y_train_one_hot, epochs=10, batch_size = 64, validation_split=0.2, callbacks=[early_stopping])"
      ],
      "metadata": {
        "colab": {
          "base_uri": "https://localhost:8080/"
        },
        "id": "oK8GU4vWuSgQ",
        "outputId": "96622eb7-88c8-46bc-8a9e-460bf931ef67"
      },
      "execution_count": null,
      "outputs": [
        {
          "output_type": "stream",
          "name": "stdout",
          "text": [
            "Epoch 1/10\n",
            "12/12 [==============================] - 6s 185ms/step - loss: 1.6087 - accuracy: 0.1953 - val_loss: 1.5998 - val_accuracy: 0.3490\n",
            "Epoch 2/10\n",
            "12/12 [==============================] - 1s 95ms/step - loss: 1.5742 - accuracy: 0.3477 - val_loss: 1.5579 - val_accuracy: 0.3073\n",
            "Epoch 3/10\n",
            "12/12 [==============================] - 1s 95ms/step - loss: 1.4103 - accuracy: 0.4375 - val_loss: 1.2723 - val_accuracy: 0.4010\n",
            "Epoch 4/10\n",
            "12/12 [==============================] - 1s 132ms/step - loss: 1.0103 - accuracy: 0.5807 - val_loss: 0.9951 - val_accuracy: 0.5625\n",
            "Epoch 5/10\n",
            "12/12 [==============================] - 2s 124ms/step - loss: 0.9422 - accuracy: 0.6120 - val_loss: 1.0789 - val_accuracy: 0.5156\n",
            "Epoch 6/10\n",
            "12/12 [==============================] - 1s 80ms/step - loss: 0.8106 - accuracy: 0.6940 - val_loss: 0.9417 - val_accuracy: 0.6302\n",
            "Epoch 7/10\n",
            "12/12 [==============================] - 1s 56ms/step - loss: 0.6568 - accuracy: 0.7826 - val_loss: 0.9109 - val_accuracy: 0.6823\n",
            "Epoch 8/10\n",
            "12/12 [==============================] - 1s 72ms/step - loss: 0.5230 - accuracy: 0.8255 - val_loss: 0.8745 - val_accuracy: 0.6510\n",
            "Epoch 9/10\n",
            "12/12 [==============================] - 1s 108ms/step - loss: 0.4092 - accuracy: 0.8646 - val_loss: 0.9930 - val_accuracy: 0.6823\n",
            "Epoch 10/10\n",
            "12/12 [==============================] - 1s 71ms/step - loss: 0.3335 - accuracy: 0.8815 - val_loss: 1.0469 - val_accuracy: 0.7135\n"
          ]
        },
        {
          "output_type": "execute_result",
          "data": {
            "text/plain": [
              "<keras.src.callbacks.History at 0x79ae905bdd80>"
            ]
          },
          "metadata": {},
          "execution_count": 38
        }
      ]
    },
    {
      "cell_type": "markdown",
      "source": [
        "Задание 2.\n",
        "\n",
        "Примените один из трансформеров, например BERT к задаче классификации отзывов клиентов. Сравните полученные результаты с классическими методами машинного обучения, с RNN. Сделайте выводы."
      ],
      "metadata": {
        "id": "59CdW5LqpAlb"
      }
    },
    {
      "cell_type": "markdown",
      "source": [
        "Использование BERT"
      ],
      "metadata": {
        "id": "5R1NbFRQxOvZ"
      }
    },
    {
      "cell_type": "code",
      "source": [
        "import tensorflow_hub as hub\n",
        "from transformers import BertTokenizer, TFBertModel\n",
        "from transformers import DistilBertTokenizer, TFDistilBertForSequenceClassification, TFBertForSequenceClassification"
      ],
      "metadata": {
        "id": "0J4qVKNKzSLv"
      },
      "execution_count": null,
      "outputs": []
    },
    {
      "cell_type": "code",
      "source": [
        "tokenizer = DistilBertTokenizer.from_pretrained('distilbert-base-uncased')"
      ],
      "metadata": {
        "colab": {
          "base_uri": "https://localhost:8080/",
          "height": 145,
          "referenced_widgets": [
            "fbbc1f9bcc8b45f782b222c20d5884fb",
            "d26c96a5200d41d68d03d63928cb02c5",
            "9ab1a4d5c0064aa39c02d32d420f65c5",
            "60481ad50bfe463983745d7ca4ed3259",
            "9fcf560066ce4662b72e8b3d9eee18bd",
            "25c80b26178b463d97ba6e7f5ec65d7c",
            "b3c9ab2928aa4c688db74b856bc73110",
            "c14f696fc4144693a9bf0f311eb84ed8",
            "1851b430feea41ebb6cf94b48c389429",
            "b817fb75596741259dfecfad07341f35",
            "c2ddb7459714433cba2a82f63e336c4f",
            "4a3fcf1004f443f49e844aed82d1e989",
            "86b9446efca44a049d0f9596f2899ffa",
            "ef48f0f2cb8c452386e84e7daec8d088",
            "0c11c0a5cfce4512bd67a430957856d1",
            "c0273b5e84aa4deda0c98426da312c55",
            "47a0a16b91534882933558c047e53749",
            "d054f7c812414a43a62e6b6808d7286f",
            "b805932465e242f6978e7e472588e9d9",
            "63d1314c503345b3859b10b5dd06aac9",
            "0a138ee1fb5849c6a6f3c10e316ec749",
            "a8e695ca33aa405980b908e789341865",
            "e9213535fb704743bff3c744d4c144c3",
            "98a10ef76c574ef1aa4c0357668289c8",
            "90bb4f75f3114793b9638539d9c38420",
            "3eab12ff93c448b8934f622c7dd93940",
            "c6c737b8270847ad8cd79cc7df33b157",
            "3b2570fce735466a859b4131a9cfe9c6",
            "d690db38ca5d4a2ca7a3bc3477420edc",
            "d6fa7b07264f4614802cf8295880014a",
            "b10d243d125d490991bcf6cf0f945519",
            "cb137497e99e4527be36619b06bec0d1",
            "12974dd7b7864e84aaf33755267a91c3",
            "4e30e8ddeb324d01b53a8196c7953153",
            "637cce7c8fe84fdb951fe77b60c43a28",
            "53d151349b514ae9b59831e892114e31",
            "9da56d9bb54b4a04a14fbd7edac9e502",
            "18e37a716b894e50bf03505a02f39ba4",
            "c336fd80c5a1410d9bffde1827eadf75",
            "85ff2e92c7a44c30b88b0fbfa95dc88e",
            "ce1bbceba092485099fd9eccf53ca9b7",
            "1563d5782df8420ca9c1a3021ad2ed4e",
            "721ca2bed9d647f7b2b67047405f1fdd",
            "64f8f88601c444e2a9b94febbb1a87f4"
          ]
        },
        "id": "VrjAS2Ll86ra",
        "outputId": "807e0762-4865-484e-84cb-9222eb5aaa5a"
      },
      "execution_count": null,
      "outputs": [
        {
          "output_type": "display_data",
          "data": {
            "text/plain": [
              "tokenizer_config.json:   0%|          | 0.00/28.0 [00:00<?, ?B/s]"
            ],
            "application/vnd.jupyter.widget-view+json": {
              "version_major": 2,
              "version_minor": 0,
              "model_id": "fbbc1f9bcc8b45f782b222c20d5884fb"
            }
          },
          "metadata": {}
        },
        {
          "output_type": "display_data",
          "data": {
            "text/plain": [
              "vocab.txt:   0%|          | 0.00/232k [00:00<?, ?B/s]"
            ],
            "application/vnd.jupyter.widget-view+json": {
              "version_major": 2,
              "version_minor": 0,
              "model_id": "4a3fcf1004f443f49e844aed82d1e989"
            }
          },
          "metadata": {}
        },
        {
          "output_type": "display_data",
          "data": {
            "text/plain": [
              "tokenizer.json:   0%|          | 0.00/466k [00:00<?, ?B/s]"
            ],
            "application/vnd.jupyter.widget-view+json": {
              "version_major": 2,
              "version_minor": 0,
              "model_id": "e9213535fb704743bff3c744d4c144c3"
            }
          },
          "metadata": {}
        },
        {
          "output_type": "display_data",
          "data": {
            "text/plain": [
              "config.json:   0%|          | 0.00/483 [00:00<?, ?B/s]"
            ],
            "application/vnd.jupyter.widget-view+json": {
              "version_major": 2,
              "version_minor": 0,
              "model_id": "4e30e8ddeb324d01b53a8196c7953153"
            }
          },
          "metadata": {}
        }
      ]
    },
    {
      "cell_type": "code",
      "source": [
        "class_1 = df[df['Оценка'] == 1]\n",
        "class_2 = df[df['Оценка'] == 2]\n",
        "class_3 = df[df['Оценка'] == 3]\n",
        "class_4 = df[df['Оценка'] == 4]\n",
        "class_5 = df[df['Оценка'] == 5]\n",
        "\n",
        "len_new = len(class_2)\n",
        "undersampled_class_4_data = class_4.sample(n=len_new, replace=True, random_state=42)\n",
        "undersampled_class_5_data = class_5.sample(n=len_new, replace=True, random_state=42)\n",
        "\n",
        "oversampled_class_1_data = class_1.sample(n=len_new, replace=True, random_state=42)\n",
        "oversampled_class_2_data = class_2.sample(n=len_new, replace=True, random_state=42)\n",
        "oversampled_class_3_data = class_3.sample(n=len_new, replace=True, random_state=42)\n",
        "\n",
        "new_df = pd.concat([oversampled_class_1_data, oversampled_class_2_data, oversampled_class_3_data,\n",
        "                          undersampled_class_4_data, undersampled_class_5_data])\n",
        "\n",
        "new_df.drop(\"Ресторан\", axis= 1 , inplace= True )\n",
        "new_df.drop(\"Дата отзыва\", axis= 1 , inplace= True )\n",
        "\n",
        "X_train, X_test, y_train, y_test = train_test_split(new_df['Отзыв'], new_df['Оценка'], test_size=0.2, random_state=42)\n",
        "max_sequence_length = 100"
      ],
      "metadata": {
        "id": "IOqRu_Z0RVaP"
      },
      "execution_count": null,
      "outputs": []
    },
    {
      "cell_type": "code",
      "source": [
        "X_train_tensor = tokenizer(X_train.tolist(), return_tensors=\"tf\", padding=True, truncation=True, max_length=max_sequence_length)\n",
        "X_test_tensor = tokenizer(X_test.tolist(), return_tensors=\"tf\", padding=True, truncation=True, max_length=max_sequence_length)"
      ],
      "metadata": {
        "id": "uSKe1Dkz87LK"
      },
      "execution_count": null,
      "outputs": []
    },
    {
      "cell_type": "code",
      "source": [
        "y_train_tensor = tf.convert_to_tensor(y_train)\n",
        "y_test_tensor = tf.convert_to_tensor(y_test)"
      ],
      "metadata": {
        "id": "r823wi3I1HXj"
      },
      "execution_count": null,
      "outputs": []
    },
    {
      "cell_type": "code",
      "source": [
        "train_dataset = tf.data.Dataset.from_tensor_slices((dict(X_train_tensor), y_train_tensor))\n",
        "test_dataset = tf.data.Dataset.from_tensor_slices((dict(X_test_tensor), y_test_tensor))"
      ],
      "metadata": {
        "id": "4pEGxiXJ_Gpk"
      },
      "execution_count": null,
      "outputs": []
    },
    {
      "cell_type": "code",
      "source": [
        "num_samples = sum(1 for _ in train_dataset)\n",
        "\n",
        "train_size = int(0.8 * num_samples)\n",
        "val_size = num_samples - train_size\n",
        "\n",
        "train_dataset = train_dataset.take(train_size)\n",
        "val_dataset = train_dataset.skip(train_size)"
      ],
      "metadata": {
        "id": "XMd-eHj__h0G"
      },
      "execution_count": null,
      "outputs": []
    },
    {
      "cell_type": "code",
      "source": [
        "model = TFDistilBertForSequenceClassification.from_pretrained('distilbert-base-uncased', num_labels=5)"
      ],
      "metadata": {
        "colab": {
          "base_uri": "https://localhost:8080/"
        },
        "id": "YuJqJjHl80Z2",
        "outputId": "a48606b6-f4fa-420e-fa15-20860e082446"
      },
      "execution_count": null,
      "outputs": [
        {
          "output_type": "stream",
          "name": "stderr",
          "text": [
            "Some weights of the PyTorch model were not used when initializing the TF 2.0 model TFDistilBertForSequenceClassification: ['vocab_projector.bias', 'vocab_transform.weight', 'vocab_layer_norm.bias', 'vocab_layer_norm.weight', 'vocab_transform.bias']\n",
            "- This IS expected if you are initializing TFDistilBertForSequenceClassification from a PyTorch model trained on another task or with another architecture (e.g. initializing a TFBertForSequenceClassification model from a BertForPreTraining model).\n",
            "- This IS NOT expected if you are initializing TFDistilBertForSequenceClassification from a PyTorch model that you expect to be exactly identical (e.g. initializing a TFBertForSequenceClassification model from a BertForSequenceClassification model).\n",
            "Some weights or buffers of the TF 2.0 model TFDistilBertForSequenceClassification were not initialized from the PyTorch model and are newly initialized: ['pre_classifier.weight', 'pre_classifier.bias', 'classifier.weight', 'classifier.bias']\n",
            "You should probably TRAIN this model on a down-stream task to be able to use it for predictions and inference.\n"
          ]
        }
      ]
    },
    {
      "cell_type": "code",
      "source": [
        "X_train_np, y_train_np = next(iter(train_dataset.batch(num_samples)))\n",
        "\n",
        "model.compile(optimizer='adam', loss='sparse_categorical_crossentropy', metrics=['accuracy'])\n",
        "model.fit(X_train_np, y_train_np, epochs=4, batch_size=64, validation_split=0.2)"
      ],
      "metadata": {
        "colab": {
          "base_uri": "https://localhost:8080/"
        },
        "id": "9LqmKce-_4AA",
        "outputId": "09c69000-36bc-4e81-9f04-a0af3291f0bd"
      },
      "execution_count": null,
      "outputs": [
        {
          "output_type": "stream",
          "name": "stdout",
          "text": [
            "Epoch 1/4\n",
            "10/10 [==============================] - 35s 832ms/step - loss: 3.8547 - accuracy: 0.2101 - val_loss: 1.6094 - val_accuracy: 0.1753\n",
            "Epoch 2/4\n",
            "10/10 [==============================] - 6s 589ms/step - loss: 1.6094 - accuracy: 0.2166 - val_loss: 1.6094 - val_accuracy: 0.2143\n",
            "Epoch 3/4\n",
            "10/10 [==============================] - 6s 599ms/step - loss: 1.6094 - accuracy: 0.1938 - val_loss: 1.6094 - val_accuracy: 0.2143\n",
            "Epoch 4/4\n",
            "10/10 [==============================] - 6s 596ms/step - loss: 1.6469 - accuracy: 0.2150 - val_loss: 1.6094 - val_accuracy: 0.1753\n"
          ]
        },
        {
          "output_type": "execute_result",
          "data": {
            "text/plain": [
              "<keras.src.callbacks.History at 0x79ae905a82e0>"
            ]
          },
          "metadata": {},
          "execution_count": 68
        }
      ]
    },
    {
      "cell_type": "markdown",
      "source": [
        "Датасет в целях запуска был урезан в 5 раз, т.к. иначе при запуске кода происходила ошибка, связанная с недостаточным объемом памяти CUDA, а также объемом RAM предоставленной видеокарты. В связи с малым объемом данных\n",
        "\n"
      ],
      "metadata": {
        "id": "6g1-wpKUE8rC"
      }
    },
    {
      "cell_type": "markdown",
      "source": [
        "![image.png](data:image/png;base64,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)"
      ],
      "metadata": {
        "id": "KYKx4CsGFkgO"
      }
    },
    {
      "cell_type": "markdown",
      "source": [
        "Тем не менее, даже так можно сделать вывод, что точность и эффективность моделей с использованием такого трансформера, как BERT, соответствует вычислительной мощности, требуемой для запуска модели с ним."
      ],
      "metadata": {
        "id": "EtbeS8MQHxlY"
      }
    },
    {
      "cell_type": "markdown",
      "source": [
        "Задание 3.\n",
        "\n",
        "Примените один из трансформеров, например BERT, к задаче генерации англоязычного и русскоязычного текстов. Сравните результаты с LSTM. Сделайте выводы."
      ],
      "metadata": {
        "id": "mLJVnhTzHKB5"
      }
    },
    {
      "cell_type": "code",
      "source": [
        "import pandas as pd\n",
        "from sklearn.model_selection import train_test_split\n",
        "from transformers import DistilBertTokenizer, DistilBertForSequenceClassification, AdamW\n",
        "from torch.utils.data import DataLoader, TensorDataset, random_split\n",
        "import torch\n",
        "from tqdm import tqdm\n",
        "from torch.cuda.amp import autocast, GradScaler"
      ],
      "metadata": {
        "id": "_Dk1XkkrCraR"
      },
      "execution_count": null,
      "outputs": []
    },
    {
      "cell_type": "code",
      "source": [
        "import requests\n",
        "from transformers import TFGPT2LMHeadModel, GPT2Tokenizer\n",
        "import random\n",
        "\n",
        "def load_text_from_url(url):\n",
        "    response = requests.get(url)\n",
        "    return response.text\n",
        "\n",
        "def generate_text(input_text, model, tokenizer):\n",
        "    input_ids = tokenizer.encode(input_text, return_tensors='tf')\n",
        "    attention_mask = tf.ones_like(input_ids)\n",
        "\n",
        "    generated_text = model.generate(input_ids, attention_mask=attention_mask, max_length=100, num_beams=5, no_repeat_ngram_size=2)\n",
        "\n",
        "    generated_text_decoded = tokenizer.decode(generated_text[0], skip_special_tokens=True)\n",
        "    return generated_text_decoded\n",
        "\n",
        "tokenizer = GPT2Tokenizer.from_pretrained('gpt2')\n",
        "model = TFGPT2LMHeadModel.from_pretrained('gpt2')\n",
        "\n",
        "txt_url = 'https://s3.amazonaws.com/text-datasets/nietzsche.txt'\n",
        "input_text = load_text_from_url(txt_url)\n",
        "\n",
        "sentences = input_text.split('.')\n",
        "\n",
        "random_index = random.randint(0, len(sentences) - 1)\n",
        "random_sentence = sentences[random_index]\n",
        "\n",
        "generated_text = generate_text(random_sentence, model, tokenizer)\n",
        "\n",
        "print(f\"Исходное предложение: {random_sentence}\")\n",
        "print(f\"Сгенерированный текст: {generated_text}\")"
      ],
      "metadata": {
        "colab": {
          "base_uri": "https://localhost:8080/"
        },
        "id": "Sc3LE0lLKTyv",
        "outputId": "16db75db-3e88-4e32-beb2-757eda9767e9"
      },
      "execution_count": null,
      "outputs": [
        {
          "output_type": "stream",
          "name": "stderr",
          "text": [
            "All PyTorch model weights were used when initializing TFGPT2LMHeadModel.\n",
            "\n",
            "All the weights of TFGPT2LMHeadModel were initialized from the PyTorch model.\n",
            "If your task is similar to the task the model of the checkpoint was trained on, you can already use TFGPT2LMHeadModel for predictions without further training.\n",
            "Setting `pad_token_id` to `eos_token_id`:50256 for open-end generation.\n"
          ]
        },
        {
          "output_type": "stream",
          "name": "stdout",
          "text": [
            "Исходное предложение:  To\n",
            "reduce anyone to silence by physical manifestations of savagery or by a\n",
            "terrorizing process is a relic of under civilization\n",
            "Сгенерированный текст:  To\n",
            "reduce anyone to silence by physical manifestations of savagery or by a\n",
            "terrorizing process is a relic of under civilization. It is not a new phenomenon, but it is\n",
            "the result of a centuries-long process of socialization.\n",
            "It is the product of centuries of cultural and economic development, and it has been the result\n",
            "of a long period of political, economic, social, cultural, political and cultural development. In the\n",
            "\n",
            "history of the world, there has\n"
          ]
        }
      ]
    },
    {
      "cell_type": "markdown",
      "source": [
        "Задание 4.\n",
        "\n",
        "Примените один из трансформеров, например BERT, к задаче машинного перевода."
      ],
      "metadata": {
        "id": "vM1xSklKK3H1"
      }
    },
    {
      "cell_type": "code",
      "source": [
        "!apt-get install -y python3-sentencepiece"
      ],
      "metadata": {
        "colab": {
          "base_uri": "https://localhost:8080/"
        },
        "id": "crGG0TUtNnxa",
        "outputId": "a0f8ee13-4b6c-48a5-d14f-6a9125a8ecf4"
      },
      "execution_count": null,
      "outputs": [
        {
          "output_type": "stream",
          "name": "stdout",
          "text": [
            "Reading package lists... Done\n",
            "Building dependency tree... Done\n",
            "Reading state information... Done\n",
            "The following additional packages will be installed:\n",
            "  libsentencepiece0\n",
            "The following NEW packages will be installed:\n",
            "  libsentencepiece0 python3-sentencepiece\n",
            "0 upgraded, 2 newly installed, 0 to remove and 24 not upgraded.\n",
            "Need to get 878 kB of archives.\n",
            "After this operation, 2,774 kB of additional disk space will be used.\n",
            "Get:1 http://archive.ubuntu.com/ubuntu jammy/universe amd64 libsentencepiece0 amd64 0.1.96-1build1 [832 kB]\n",
            "Get:2 http://archive.ubuntu.com/ubuntu jammy/universe amd64 python3-sentencepiece amd64 0.1.96-1build1 [45.5 kB]\n",
            "Fetched 878 kB in 0s (2,353 kB/s)\n",
            "Selecting previously unselected package libsentencepiece0.\n",
            "(Reading database ... 121658 files and directories currently installed.)\n",
            "Preparing to unpack .../libsentencepiece0_0.1.96-1build1_amd64.deb ...\n",
            "Unpacking libsentencepiece0 (0.1.96-1build1) ...\n",
            "Selecting previously unselected package python3-sentencepiece.\n",
            "Preparing to unpack .../python3-sentencepiece_0.1.96-1build1_amd64.deb ...\n",
            "Unpacking python3-sentencepiece (0.1.96-1build1) ...\n",
            "Setting up libsentencepiece0 (0.1.96-1build1) ...\n",
            "Setting up python3-sentencepiece (0.1.96-1build1) ...\n",
            "Processing triggers for libc-bin (2.35-0ubuntu3.4) ...\n",
            "/sbin/ldconfig.real: /usr/local/lib/libtbbbind_2_0.so.3 is not a symbolic link\n",
            "\n",
            "/sbin/ldconfig.real: /usr/local/lib/libtbbmalloc_proxy.so.2 is not a symbolic link\n",
            "\n",
            "/sbin/ldconfig.real: /usr/local/lib/libtbbmalloc.so.2 is not a symbolic link\n",
            "\n",
            "/sbin/ldconfig.real: /usr/local/lib/libtbb.so.12 is not a symbolic link\n",
            "\n",
            "/sbin/ldconfig.real: /usr/local/lib/libtbbbind_2_5.so.3 is not a symbolic link\n",
            "\n",
            "/sbin/ldconfig.real: /usr/local/lib/libtbbbind.so.3 is not a symbolic link\n",
            "\n"
          ]
        }
      ]
    },
    {
      "cell_type": "code",
      "source": [
        "!pip install sentencepiece"
      ],
      "metadata": {
        "colab": {
          "base_uri": "https://localhost:8080/"
        },
        "id": "oOynmTSgM5qj",
        "outputId": "3680d999-cc54-40bf-f0b9-2973c26f129b"
      },
      "execution_count": null,
      "outputs": [
        {
          "output_type": "stream",
          "name": "stdout",
          "text": [
            "Collecting sentencepiece\n",
            "  Downloading sentencepiece-0.1.99-cp310-cp310-manylinux_2_17_x86_64.manylinux2014_x86_64.whl (1.3 MB)\n",
            "\u001b[2K     \u001b[90m━━━━━━━━━━━━━━━━━━━━━━━━━━━━━━━━━━━━━━━━\u001b[0m \u001b[32m1.3/1.3 MB\u001b[0m \u001b[31m15.0 MB/s\u001b[0m eta \u001b[36m0:00:00\u001b[0m\n",
            "\u001b[?25hInstalling collected packages: sentencepiece\n",
            "Successfully installed sentencepiece-0.1.99\n"
          ]
        }
      ]
    },
    {
      "cell_type": "code",
      "source": [
        "from transformers import MarianMTModel, MarianTokenizer\n",
        "import sentencepiece as spm\n",
        "import random"
      ],
      "metadata": {
        "id": "r4AGK1gMLRiM"
      },
      "execution_count": null,
      "outputs": []
    },
    {
      "cell_type": "code",
      "source": [
        "def load_text_from_url(url):\n",
        "    response = requests.get(url)\n",
        "    return response.text\n",
        "\n",
        "def get_random_index(text):\n",
        "    sentences = text.split('.')\n",
        "    return random.randint(0, len(sentences) - 3)\n",
        "\n",
        "src_lang = \"en\"\n",
        "tgt_lang = \"fr\"\n",
        "\n",
        "model_name = f'Helsinki-NLP/opus-mt-{src_lang}-{tgt_lang}'\n",
        "tokenizer = MarianTokenizer.from_pretrained(model_name)\n",
        "model = MarianMTModel.from_pretrained(model_name)\n",
        "\n",
        "\n",
        "txt_url = 'https://s3.amazonaws.com/text-datasets/nietzsche.txt'\n",
        "input_text = load_text_from_url(txt_url)\n",
        "random_index = get_random_index(input_text)\n",
        "\n",
        "selected_sentences = input_text.split('.')[random_index:random_index + 3]\n",
        "\n",
        "translations = []\n",
        "for sentence in selected_sentences:\n",
        "  input_ids = tokenizer.encode(sentence, return_tensors=\"pt\")\n",
        "\n",
        "  with torch.no_grad():\n",
        "        outputs = model.generate(input_ids)\n",
        "        translated_sentence = tokenizer.decode(outputs[0], skip_special_tokens=True)\n",
        "        translations.append(translated_sentence)\n",
        "\n",
        "print(f\"Случайные предложения: {'. '.join(selected_sentences)}\")\n",
        "print(f\"Переводы: {'. '.join(translations)}\")"
      ],
      "metadata": {
        "colab": {
          "base_uri": "https://localhost:8080/"
        },
        "id": "NySUHjYsK6JX",
        "outputId": "216db26b-ed74-4d3d-fbd1-151b562dad81"
      },
      "execution_count": null,
      "outputs": [
        {
          "output_type": "stream",
          "name": "stderr",
          "text": [
            "/usr/local/lib/python3.10/dist-packages/transformers/models/marian/tokenization_marian.py:197: UserWarning: Recommended: pip install sacremoses.\n",
            "  warnings.warn(\"Recommended: pip install sacremoses.\")\n"
          ]
        },
        {
          "output_type": "stream",
          "name": "stdout",
          "text": [
            "Случайные предложения: --We may, if we please, become sensible, even in our\n",
            "waking moments, of a condition that is as a door and vestibule to\n",
            "dreaming.  If we close our eyes the brain immediately conjures up a\n",
            "medley of impressions of light and color, apparently a sort of imitation\n",
            "and echo of the impressions forced in upon the brain during its waking\n",
            "moments.  And now the mind, in co-operation with the imagination,\n",
            "transforms this formless play of light and color into definite figures,\n",
            "moving groups, landscapes\n",
            "Переводы: --Nous pouvons, s'il vous plaît, devenir raisonnables, même dans nos moments de réveil, d'une condition qui est comme une porte et vestibule à rêver. Si nous fermons les yeux, le cerveau évoque immédiatement un mélange d'impressions de lumière et de couleur, apparemment une sorte d'imitation et d'écho des impressions forcées sur le cerveau pendant ses moments de réveil.. Et maintenant, l'esprit, en coopération avec l'imagination, transforme ce jeu sans forme de lumière et de couleur en figures définies, groupes mobiles, paysages\n"
          ]
        }
      ]
    }
  ]
}